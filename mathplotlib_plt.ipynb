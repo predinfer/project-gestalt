{
 "cells": [
  {
   "cell_type": "markdown",
   "metadata": {},
   "source": [
    "### Mathplotlib.pyplot as plt"
   ]
  },
  {
   "attachments": {},
   "cell_type": "markdown",
   "metadata": {},
   "source": [
    "Things Mathplotlib can do : \n",
    "1. Managing Figure and Axis\n",
    "2. Adding dtaa to the plot\n",
    "3. Spans\n",
    "4. Spectral\n",
    "5. Statistics\n",
    "6. Binned\n",
    "7. Contours\n",
    "8. 2d Arrays\n",
    "9. Unstructured Triangles\n",
    "10. Text and Annotations\n",
    "11. Vector Fields\n",
    "12. Axis Configuration\n",
    "13. Layout\n",
    "14. Color Mapping\n",
    "15. Configuration\n",
    "16. Output\n",
    "17. Other\n",
    "\n",
    "\n",
    "These are some of the stuff we can't get easily through dataframe plots."
   ]
  },
  {
   "cell_type": "code",
   "execution_count": null,
   "metadata": {
    "vscode": {
     "languageId": "plaintext"
    }
   },
   "outputs": [],
   "source": []
  }
 ],
 "metadata": {
  "language_info": {
   "name": "python"
  },
  "orig_nbformat": 4
 },
 "nbformat": 4,
 "nbformat_minor": 2
}
